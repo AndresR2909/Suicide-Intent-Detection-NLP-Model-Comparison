{
 "cells": [
  {
   "cell_type": "code",
   "execution_count": 4,
   "metadata": {},
   "outputs": [],
   "source": [
    "open_ia_deployments = [{\"azure\":False,\"deployment\":\"gpt-4o-mini\"},{\"azure\":False,\"deployment\":\"gpt-4o-2024-08-06\"}]\n",
    "azure_deployments = [{\"deployment\":\"gpt-4o\", \"api_version\":\"2024-02-15-preview\"}, \n",
    "                     {\"deployment\":\"gpt-4o-mini\", \"api_version\":\"2024-02-15-preview\"},\n",
    "                     {\"deployment\":\"gpt-35-turbo\", \"api_version\":\"2023-03-15-preview\"}]"
   ]
  },
  {
   "cell_type": "code",
   "execution_count": 45,
   "metadata": {},
   "outputs": [],
   "source": [
    "import os\n",
    "import pandas as pd\n",
    "import wandb\n",
    "from datetime import datetime\n",
    "import time\n",
    "from dotenv import load_dotenv\n",
    "from langchain_core.prompts import ChatPromptTemplate\n",
    "from src.open_ia_chat import OpenAIChatModel\n"
   ]
  },
  {
   "cell_type": "code",
   "execution_count": 16,
   "metadata": {},
   "outputs": [
    {
     "data": {
      "text/plain": [
       "True"
      ]
     },
     "execution_count": 16,
     "metadata": {},
     "output_type": "execute_result"
    }
   ],
   "source": [
    "load_dotenv()"
   ]
  },
  {
   "cell_type": "markdown",
   "metadata": {},
   "source": [
    "# load model"
   ]
  },
  {
   "cell_type": "code",
   "execution_count": 17,
   "metadata": {},
   "outputs": [
    {
     "data": {
      "text/plain": [
       "'gpt-4o-2024-08-06'"
      ]
     },
     "execution_count": 17,
     "metadata": {},
     "output_type": "execute_result"
    }
   ],
   "source": [
    "open_ia_model = OpenAIChatModel(**open_ia_deployments[1])\n",
    "azure_open_ia_model = OpenAIChatModel(**azure_deployments[1])\n",
    "open_ia_model.model"
   ]
  },
  {
   "cell_type": "code",
   "execution_count": 5,
   "metadata": {},
   "outputs": [
    {
     "data": {
      "text/plain": [
       "AIMessage(content='La suma de 2 más 2 es 4.', additional_kwargs={'refusal': None}, response_metadata={'token_usage': {'completion_tokens': 12, 'prompt_tokens': 14, 'total_tokens': 26, 'completion_tokens_details': {'reasoning_tokens': 0}}, 'model_name': 'gpt-4o-2024-08-06', 'system_fingerprint': 'fp_8080548e81', 'finish_reason': 'stop', 'logprobs': None}, id='run-f7d6cb50-5531-4225-88a0-353061d65116-0', usage_metadata={'input_tokens': 14, 'output_tokens': 12, 'total_tokens': 26})"
      ]
     },
     "execution_count": 5,
     "metadata": {},
     "output_type": "execute_result"
    }
   ],
   "source": [
    "open_ia_model.chat_model_client.invoke(\"suma 2 mas 2\")"
   ]
  },
  {
   "cell_type": "markdown",
   "metadata": {},
   "source": [
    "# load dataset"
   ]
  },
  {
   "cell_type": "code",
   "execution_count": 18,
   "metadata": {},
   "outputs": [],
   "source": [
    "splits = {'train': 'data/train-00000-of-00001-7b34565378f02992.parquet', 'val': 'data/val-00000-of-00001-d7338c59b5e5031f.parquet', 'test': 'data/test-00000-of-00001-c830a979da438bff.parquet'}\n",
    "df_train = pd.read_parquet(\"hf://datasets/PrevenIA/spanish-suicide-intent/\" + splits[\"train\"])\n",
    "#df_val = pd.read_parquet(\"hf://datasets/PrevenIA/spanish-suicide-intent/\" + splits[\"val\"])"
   ]
  },
  {
   "cell_type": "code",
   "execution_count": 19,
   "metadata": {},
   "outputs": [
    {
     "name": "stdout",
     "output_type": "stream",
     "text": [
      "<class 'pandas.core.frame.DataFrame'>\n",
      "RangeIndex: 136136 entries, 0 to 136135\n",
      "Data columns (total 4 columns):\n",
      " #   Column             Non-Null Count   Dtype \n",
      "---  ------             --------------   ----- \n",
      " 0   Text               136136 non-null  object\n",
      " 1   Label              136136 non-null  int64 \n",
      " 2   dataset            136136 non-null  object\n",
      " 3   __index_level_0__  136136 non-null  int64 \n",
      "dtypes: int64(2), object(2)\n",
      "memory usage: 4.2+ MB\n"
     ]
    }
   ],
   "source": [
    "df_train.info()"
   ]
  },
  {
   "cell_type": "code",
   "execution_count": 20,
   "metadata": {},
   "outputs": [
    {
     "data": {
      "text/html": [
       "<div>\n",
       "<style scoped>\n",
       "    .dataframe tbody tr th:only-of-type {\n",
       "        vertical-align: middle;\n",
       "    }\n",
       "\n",
       "    .dataframe tbody tr th {\n",
       "        vertical-align: top;\n",
       "    }\n",
       "\n",
       "    .dataframe thead th {\n",
       "        text-align: right;\n",
       "    }\n",
       "</style>\n",
       "<table border=\"1\" class=\"dataframe\">\n",
       "  <thead>\n",
       "    <tr style=\"text-align: right;\">\n",
       "      <th></th>\n",
       "      <th>Text</th>\n",
       "      <th>Label</th>\n",
       "      <th>dataset</th>\n",
       "      <th>__index_level_0__</th>\n",
       "    </tr>\n",
       "  </thead>\n",
       "  <tbody>\n",
       "    <tr>\n",
       "      <th>0</th>\n",
       "      <td>¿Por qué hacer que mejore? ¿Por qué la escuela...</td>\n",
       "      <td>1</td>\n",
       "      <td>Hackaton Somos NLP</td>\n",
       "      <td>5071</td>\n",
       "    </tr>\n",
       "    <tr>\n",
       "      <th>1</th>\n",
       "      <td>- Roma \\n- Milán \\n- Nápoles \\n- Turín \\n- Pal...</td>\n",
       "      <td>0</td>\n",
       "      <td>Hackaton Somos NLP</td>\n",
       "      <td>9391</td>\n",
       "    </tr>\n",
       "    <tr>\n",
       "      <th>2</th>\n",
       "      <td>¿Cuál es la noticia más importante en tu área ...</td>\n",
       "      <td>0</td>\n",
       "      <td>Hackaton Somos NLP</td>\n",
       "      <td>1752</td>\n",
       "    </tr>\n",
       "    <tr>\n",
       "      <th>3</th>\n",
       "      <td>Una semana de identificación izquierda más bie...</td>\n",
       "      <td>1</td>\n",
       "      <td>Hackaton Somos NLP</td>\n",
       "      <td>5363</td>\n",
       "    </tr>\n",
       "    <tr>\n",
       "      <th>4</th>\n",
       "      <td>Podría ser que no estudiaras de la manera corr...</td>\n",
       "      <td>0</td>\n",
       "      <td>Hackaton Somos NLP</td>\n",
       "      <td>107</td>\n",
       "    </tr>\n",
       "  </tbody>\n",
       "</table>\n",
       "</div>"
      ],
      "text/plain": [
       "                                                Text  Label  \\\n",
       "0  ¿Por qué hacer que mejore? ¿Por qué la escuela...      1   \n",
       "1  - Roma \\n- Milán \\n- Nápoles \\n- Turín \\n- Pal...      0   \n",
       "2  ¿Cuál es la noticia más importante en tu área ...      0   \n",
       "3  Una semana de identificación izquierda más bie...      1   \n",
       "4  Podría ser que no estudiaras de la manera corr...      0   \n",
       "\n",
       "              dataset  __index_level_0__  \n",
       "0  Hackaton Somos NLP               5071  \n",
       "1  Hackaton Somos NLP               9391  \n",
       "2  Hackaton Somos NLP               1752  \n",
       "3  Hackaton Somos NLP               5363  \n",
       "4  Hackaton Somos NLP                107  "
      ]
     },
     "execution_count": 20,
     "metadata": {},
     "output_type": "execute_result"
    }
   ],
   "source": [
    "df_train.head()"
   ]
  },
  {
   "cell_type": "code",
   "execution_count": 46,
   "metadata": {},
   "outputs": [
    {
     "data": {
      "text/plain": [
       "Label\n",
       "0    10000\n",
       "1    10000\n",
       "Name: count, dtype: int64"
      ]
     },
     "execution_count": 46,
     "metadata": {},
     "output_type": "execute_result"
    }
   ],
   "source": [
    "df_label_1 = df_train[df_train['Label'] == 1]\n",
    "df_label_0 = df_train[df_train['Label'] == 0]\n",
    "\n",
    "# Toma 10,000 muestras aleatorias de cada grupo\n",
    "sampled_label_1 = df_label_1.sample(n=10000, random_state=42)\n",
    "sampled_label_0 = df_label_0.sample(n=10000, random_state=42)\n",
    "\n",
    "sampled_df = pd.concat([sampled_label_1, sampled_label_0])\n",
    "\n",
    "# Reordena las filas aleatoriamente\n",
    "df = sampled_df.sample(frac=1, random_state=42).reset_index(drop=True)\n",
    "df.Label.value_counts()"
   ]
  },
  {
   "cell_type": "code",
   "execution_count": 54,
   "metadata": {},
   "outputs": [],
   "source": [
    "# Split the DataFrame\n",
    "train_size = 0.8\n",
    "eval_size = 0.1\n",
    "\n",
    "# Calculate sizes\n",
    "train_end = int(train_size * len(df))\n",
    "eval_end = train_end + int(eval_size * len(df))\n",
    "\n",
    "# Split the data\n",
    "X_train = df[:train_end]\n",
    "X_eval = df[train_end:eval_end]\n",
    "X_test = df[eval_end:]"
   ]
  },
  {
   "cell_type": "markdown",
   "metadata": {},
   "source": [
    "# zero shot prompting"
   ]
  },
  {
   "cell_type": "code",
   "execution_count": 67,
   "metadata": {},
   "outputs": [
    {
     "name": "stderr",
     "output_type": "stream",
     "text": [
      "\u001b[34m\u001b[1mwandb\u001b[0m: Using wandb-core as the SDK backend. Please refer to https://wandb.me/wandb-core for more information.\n",
      "\u001b[34m\u001b[1mwandb\u001b[0m: W&B API key is configured. Use \u001b[1m`wandb login --relogin`\u001b[0m to force relogin\n",
      "\u001b[34m\u001b[1mwandb\u001b[0m: \u001b[33mWARNING\u001b[0m If you're specifying your api key in code, ensure this code is not shared publicly.\n",
      "\u001b[34m\u001b[1mwandb\u001b[0m: \u001b[33mWARNING\u001b[0m Consider setting the WANDB_API_KEY environment variable, or running `wandb login` from the command line.\n",
      "\u001b[34m\u001b[1mwandb\u001b[0m: Appending key for api.wandb.ai to your netrc file: C:\\Users\\felip\\_netrc\n",
      "\u001b[34m\u001b[1mwandb\u001b[0m: Currently logged in as: \u001b[33mfelipeandres29\u001b[0m (\u001b[33mfelipeandres29-universidad-eafit\u001b[0m). Use \u001b[1m`wandb login --relogin`\u001b[0m to force relogin\n"
     ]
    },
    {
     "data": {
      "text/html": [
       "Tracking run with wandb version 0.18.1"
      ],
      "text/plain": [
       "<IPython.core.display.HTML object>"
      ]
     },
     "metadata": {},
     "output_type": "display_data"
    },
    {
     "data": {
      "text/html": [
       "Run data is saved locally in <code>c:\\repos\\poc_llama3_1_clasificacion_texto\\wandb\\run-20240921_173820-ndlqveyd</code>"
      ],
      "text/plain": [
       "<IPython.core.display.HTML object>"
      ]
     },
     "metadata": {},
     "output_type": "display_data"
    },
    {
     "data": {
      "text/html": [
       "Syncing run <strong><a href='https://wandb.ai/felipeandres29-universidad-eafit/zero%20and%20few%20shot%20learning%20chatgpt%20on%20suicide%20intent-spanish/runs/ndlqveyd' target=\"_blank\">zero_shot_gpt4_21-09-2024_17_38</a></strong> to <a href='https://wandb.ai/felipeandres29-universidad-eafit/zero%20and%20few%20shot%20learning%20chatgpt%20on%20suicide%20intent-spanish' target=\"_blank\">Weights & Biases</a> (<a href='https://wandb.me/run' target=\"_blank\">docs</a>)<br/>"
      ],
      "text/plain": [
       "<IPython.core.display.HTML object>"
      ]
     },
     "metadata": {},
     "output_type": "display_data"
    },
    {
     "data": {
      "text/html": [
       " View project at <a href='https://wandb.ai/felipeandres29-universidad-eafit/zero%20and%20few%20shot%20learning%20chatgpt%20on%20suicide%20intent-spanish' target=\"_blank\">https://wandb.ai/felipeandres29-universidad-eafit/zero%20and%20few%20shot%20learning%20chatgpt%20on%20suicide%20intent-spanish</a>"
      ],
      "text/plain": [
       "<IPython.core.display.HTML object>"
      ]
     },
     "metadata": {},
     "output_type": "display_data"
    },
    {
     "data": {
      "text/html": [
       " View run at <a href='https://wandb.ai/felipeandres29-universidad-eafit/zero%20and%20few%20shot%20learning%20chatgpt%20on%20suicide%20intent-spanish/runs/ndlqveyd' target=\"_blank\">https://wandb.ai/felipeandres29-universidad-eafit/zero%20and%20few%20shot%20learning%20chatgpt%20on%20suicide%20intent-spanish/runs/ndlqveyd</a>"
      ],
      "text/plain": [
       "<IPython.core.display.HTML object>"
      ]
     },
     "metadata": {},
     "output_type": "display_data"
    }
   ],
   "source": [
    "today = datetime.today()\n",
    "run_date = today.strftime(\"%d-%m-%Y_%H_%M\")\n",
    "\n",
    "wb_token = os.getenv(\"WANDB_TOKEN\")\n",
    "wandb.login(key=wb_token)\n",
    "run = wandb.init(\n",
    "    project='zero and few shot learning chatgpt on suicide intent-spanish',\n",
    "    job_type=\"evaluation\",\n",
    "    name=f\"zero_shot_gpt4_{run_date}\",\n",
    "    anonymous=\"allow\"\n",
    ")"
   ]
  },
  {
   "cell_type": "code",
   "execution_count": 68,
   "metadata": {},
   "outputs": [
    {
     "data": {
      "text/plain": [
       "'Creé un avatar reddit e hice que se pareciera a mí en la vida real.'"
      ]
     },
     "execution_count": 68,
     "metadata": {},
     "output_type": "execute_result"
    }
   ],
   "source": [
    "X_test['Text'].iloc[1]"
   ]
  },
  {
   "cell_type": "code",
   "execution_count": 69,
   "metadata": {},
   "outputs": [],
   "source": [
    "system_msg = \"\"\"\n",
    "Clasifica el siguiente post con \"1\" si identificas ideación o comportamiento suicida, y con \"0\" si no. Solo responde con \"0\" o \"1\" sin agregar ningún comentario adicional.\n",
    "Post:\"\"\".strip()\n",
    "zero_shot_prompt = ChatPromptTemplate.from_messages([(\"system\", system_msg,),(\"human\", \"{text}\"),])"
   ]
  },
  {
   "cell_type": "code",
   "execution_count": 70,
   "metadata": {},
   "outputs": [],
   "source": [
    "llm = open_ia_model.chat_model_client\n",
    "chain = zero_shot_prompt | llm"
   ]
  },
  {
   "cell_type": "code",
   "execution_count": 71,
   "metadata": {},
   "outputs": [
    {
     "data": {
      "text/plain": [
       "AIMessage(content='0', additional_kwargs={'refusal': None}, response_metadata={'token_usage': {'completion_tokens': 1, 'prompt_tokens': 74, 'total_tokens': 75, 'completion_tokens_details': {'reasoning_tokens': 0}}, 'model_name': 'gpt-4o-2024-08-06', 'system_fingerprint': 'fp_5050236cbd', 'finish_reason': 'stop', 'logprobs': None}, id='run-3a982c49-e13b-4480-8555-ef7cc530bea5-0', usage_metadata={'input_tokens': 74, 'output_tokens': 1, 'total_tokens': 75})"
      ]
     },
     "execution_count": 71,
     "metadata": {},
     "output_type": "execute_result"
    }
   ],
   "source": [
    "chain.invoke(  {\n",
    "                \"text\": X_test['Text'].iloc[1],\n",
    "            }\n",
    "    \n",
    ")"
   ]
  },
  {
   "cell_type": "code",
   "execution_count": 72,
   "metadata": {},
   "outputs": [],
   "source": [
    "def generate_clasification(text):\n",
    "    time.sleep(2) # temporizador para no sobrepasar los tokens por minuto\n",
    "    try:\n",
    "        response = chain.invoke(\n",
    "            {\n",
    "                \"text\": text,\n",
    "            }\n",
    "        )\n",
    "        return response.content\n",
    "    except Exception as e:\n",
    "        print(e)\n",
    "        return \"-1\""
   ]
  },
  {
   "cell_type": "code",
   "execution_count": 73,
   "metadata": {},
   "outputs": [
    {
     "data": {
      "text/html": [
       "<div>\n",
       "<style scoped>\n",
       "    .dataframe tbody tr th:only-of-type {\n",
       "        vertical-align: middle;\n",
       "    }\n",
       "\n",
       "    .dataframe tbody tr th {\n",
       "        vertical-align: top;\n",
       "    }\n",
       "\n",
       "    .dataframe thead th {\n",
       "        text-align: right;\n",
       "    }\n",
       "</style>\n",
       "<table border=\"1\" class=\"dataframe\">\n",
       "  <thead>\n",
       "    <tr style=\"text-align: right;\">\n",
       "      <th></th>\n",
       "      <th>Text</th>\n",
       "      <th>Label</th>\n",
       "      <th>dataset</th>\n",
       "      <th>__index_level_0__</th>\n",
       "      <th>gpt_classification_zero_shot</th>\n",
       "    </tr>\n",
       "  </thead>\n",
       "  <tbody>\n",
       "    <tr>\n",
       "      <th>18000</th>\n",
       "      <td>Estoy listo para morir.2 años de tiempo presta...</td>\n",
       "      <td>1</td>\n",
       "      <td>SuicideWatch</td>\n",
       "      <td>36253</td>\n",
       "      <td>1</td>\n",
       "    </tr>\n",
       "    <tr>\n",
       "      <th>18001</th>\n",
       "      <td>Creé un avatar reddit e hice que se pareciera ...</td>\n",
       "      <td>0</td>\n",
       "      <td>SuicideWatch</td>\n",
       "      <td>55987</td>\n",
       "      <td>0</td>\n",
       "    </tr>\n",
       "    <tr>\n",
       "      <th>18002</th>\n",
       "      <td>estos son los niños que luego en la vida están...</td>\n",
       "      <td>1</td>\n",
       "      <td>TwitterSuicidalAnalysis</td>\n",
       "      <td>10161</td>\n",
       "      <td>0</td>\n",
       "    </tr>\n",
       "    <tr>\n",
       "      <th>18003</th>\n",
       "      <td>Estoy trabajando ahora, el primer día de mi nu...</td>\n",
       "      <td>1</td>\n",
       "      <td>SuicideWatch</td>\n",
       "      <td>93875</td>\n",
       "      <td>0</td>\n",
       "    </tr>\n",
       "    <tr>\n",
       "      <th>18004</th>\n",
       "      <td>Pensamientos matutinos Hubo un tiempo en el qu...</td>\n",
       "      <td>1</td>\n",
       "      <td>Ji et al. 2018</td>\n",
       "      <td>1764</td>\n",
       "      <td>1</td>\n",
       "    </tr>\n",
       "    <tr>\n",
       "      <th>...</th>\n",
       "      <td>...</td>\n",
       "      <td>...</td>\n",
       "      <td>...</td>\n",
       "      <td>...</td>\n",
       "      <td>...</td>\n",
       "    </tr>\n",
       "    <tr>\n",
       "      <th>19995</th>\n",
       "      <td>Mi escuela publicó esto a los estudiantes idk ...</td>\n",
       "      <td>0</td>\n",
       "      <td>SuicideWatch</td>\n",
       "      <td>44457</td>\n",
       "      <td>0</td>\n",
       "    </tr>\n",
       "    <tr>\n",
       "      <th>19996</th>\n",
       "      <td>Esto es un poco grande para mí porque he estad...</td>\n",
       "      <td>0</td>\n",
       "      <td>SuicideWatch</td>\n",
       "      <td>2270</td>\n",
       "      <td>0</td>\n",
       "    </tr>\n",
       "    <tr>\n",
       "      <th>19997</th>\n",
       "      <td>¿Estarías dispuesto a sacarme de la cornisa? M...</td>\n",
       "      <td>1</td>\n",
       "      <td>SuicideWatch</td>\n",
       "      <td>108633</td>\n",
       "      <td>1</td>\n",
       "    </tr>\n",
       "    <tr>\n",
       "      <th>19998</th>\n",
       "      <td>Me estoy ahogando lentamente por los números</td>\n",
       "      <td>1</td>\n",
       "      <td>TwitterSuicidalAnalysis</td>\n",
       "      <td>25724</td>\n",
       "      <td>1</td>\n",
       "    </tr>\n",
       "    <tr>\n",
       "      <th>19999</th>\n",
       "      <td>Hmu, me aburro Escribe un comentario o dame, n...</td>\n",
       "      <td>0</td>\n",
       "      <td>SuicideWatch</td>\n",
       "      <td>6946</td>\n",
       "      <td>0</td>\n",
       "    </tr>\n",
       "  </tbody>\n",
       "</table>\n",
       "<p>2000 rows × 5 columns</p>\n",
       "</div>"
      ],
      "text/plain": [
       "                                                    Text  Label  \\\n",
       "18000  Estoy listo para morir.2 años de tiempo presta...      1   \n",
       "18001  Creé un avatar reddit e hice que se pareciera ...      0   \n",
       "18002  estos son los niños que luego en la vida están...      1   \n",
       "18003  Estoy trabajando ahora, el primer día de mi nu...      1   \n",
       "18004  Pensamientos matutinos Hubo un tiempo en el qu...      1   \n",
       "...                                                  ...    ...   \n",
       "19995  Mi escuela publicó esto a los estudiantes idk ...      0   \n",
       "19996  Esto es un poco grande para mí porque he estad...      0   \n",
       "19997  ¿Estarías dispuesto a sacarme de la cornisa? M...      1   \n",
       "19998       Me estoy ahogando lentamente por los números      1   \n",
       "19999  Hmu, me aburro Escribe un comentario o dame, n...      0   \n",
       "\n",
       "                       dataset  __index_level_0__ gpt_classification_zero_shot  \n",
       "18000             SuicideWatch              36253                            1  \n",
       "18001             SuicideWatch              55987                            0  \n",
       "18002  TwitterSuicidalAnalysis              10161                            0  \n",
       "18003             SuicideWatch              93875                            0  \n",
       "18004           Ji et al. 2018               1764                            1  \n",
       "...                        ...                ...                          ...  \n",
       "19995             SuicideWatch              44457                            0  \n",
       "19996             SuicideWatch               2270                            0  \n",
       "19997             SuicideWatch             108633                            1  \n",
       "19998  TwitterSuicidalAnalysis              25724                            1  \n",
       "19999             SuicideWatch               6946                            0  \n",
       "\n",
       "[2000 rows x 5 columns]"
      ]
     },
     "execution_count": 73,
     "metadata": {},
     "output_type": "execute_result"
    }
   ],
   "source": [
    "df_test = X_test.copy()\n",
    "# Aplicar la función a cada registro del DataFrame\n",
    "df_test['gpt_classification_zero_shot'] = df_test['Text'].apply(generate_clasification)\n",
    "df_test"
   ]
  },
  {
   "cell_type": "code",
   "execution_count": 74,
   "metadata": {},
   "outputs": [],
   "source": [
    "df_test.to_csv('data/zero_shot_model_gpt4.csv', index=False)"
   ]
  },
  {
   "cell_type": "code",
   "execution_count": 136,
   "metadata": {},
   "outputs": [],
   "source": [
    "from sklearn.metrics import confusion_matrix, classification_report, accuracy_score\n",
    "import matplotlib.pyplot as plt\n",
    "import seaborn as sns\n",
    "def plot_confusion_matrix(\n",
    "    df: pd.DataFrame,\n",
    "    true_label_column: str = \"Label\",\n",
    "    pred_label_column: str = \"llm_label\",\n",
    ") -> None:\n",
    "    \"\"\"\n",
    "    Function to plot confusion matrix\n",
    "    \"\"\"\n",
    "    # Calculate accuracy\n",
    "    accuracy = accuracy_score(y_true=df[true_label_column], y_pred= df[pred_label_column])\n",
    "    print(f'Accuracy: {accuracy:.3f}')\n",
    "    # Crear la matriz de confusión\n",
    "    cm = confusion_matrix(df[true_label_column], df[pred_label_column], labels=[0, 1])\n",
    "\n",
    "    # Visualizar la matriz de confusión\n",
    "    plt.figure(figsize=(10, 7))\n",
    "    sns.heatmap(\n",
    "        cm, annot=True, fmt=\"d\", cmap=\"Blues\", xticklabels=[0, 1], yticklabels=[0, 1]\n",
    "    )\n",
    "    plt.xlabel(\"Predicted Label\")\n",
    "    plt.ylabel(\"True Label\")\n",
    "    plt.title(\"Confusion Matrix\")\n",
    "    plt.show()\n",
    "    report = classification_report(\n",
    "            df[true_label_column], df[pred_label_column], labels=[0, 1]\n",
    "        )\n",
    "    # Imprimir el informe de clasificación\n",
    "    print(report)\n",
    "\n",
    "    return accuracy,report,cm"
   ]
  },
  {
   "cell_type": "code",
   "execution_count": 88,
   "metadata": {},
   "outputs": [
    {
     "name": "stderr",
     "output_type": "stream",
     "text": [
      "C:\\Users\\felip\\AppData\\Local\\Temp\\ipykernel_23592\\3560325574.py:4: SettingWithCopyWarning: \n",
      "A value is trying to be set on a copy of a slice from a DataFrame.\n",
      "Try using .loc[row_indexer,col_indexer] = value instead\n",
      "\n",
      "See the caveats in the documentation: https://pandas.pydata.org/pandas-docs/stable/user_guide/indexing.html#returning-a-view-versus-a-copy\n",
      "  filtered_df[\"gpt_classification_zero_shot\"] = filtered_df[\"gpt_classification_zero_shot\"].astype(int)\n"
     ]
    },
    {
     "name": "stdout",
     "output_type": "stream",
     "text": [
      "Accuracy: 0.730\n"
     ]
    },
    {
     "data": {
      "image/png": "[encoded data removed]",
      "text/plain": [
       "<Figure size 1000x700 with 2 Axes>"
      ]
     },
     "metadata": {},
     "output_type": "display_data"
    },
    {
     "name": "stdout",
     "output_type": "stream",
     "text": [
      "              precision    recall  f1-score   support\n",
      "\n",
      "           0       0.65      0.97      0.78       987\n",
      "           1       0.94      0.50      0.65      1006\n",
      "\n",
      "    accuracy                           0.73      1993\n",
      "   macro avg       0.80      0.73      0.72      1993\n",
      "weighted avg       0.80      0.73      0.71      1993\n",
      "\n"
     ]
    }
   ],
   "source": [
    "# Filtrar las filas donde las predicciones son 0 o 1\n",
    "filtered_df = df_test[df_test[\"gpt_classification_zero_shot\"].isin([\"0\", \"1\"])]\n",
    "\n",
    "filtered_df[\"gpt_classification_zero_shot\"] = filtered_df[\"gpt_classification_zero_shot\"].astype(int)\n",
    "\n",
    "accuracy,classification_report,cm =plot_confusion_matrix(filtered_df, 'Label', 'gpt_classification_zero_shot')"
   ]
  },
  {
   "cell_type": "code",
   "execution_count": 79,
   "metadata": {},
   "outputs": [],
   "source": [
    "wandb.log({\"Accuracy\": accuracy})\n",
    "wandb.log({\"Matriz de confusion\": cm})\n",
    "wandb.log({\"classification_report\": classification_report})"
   ]
  },
  {
   "cell_type": "code",
   "execution_count": 92,
   "metadata": {},
   "outputs": [],
   "source": [
    "labels =  [0, 1]\n",
    "label_to_index = {label: idx for idx, label in enumerate(labels)}\n",
    "\n",
    "# Convertir las etiquetas verdaderas y predichas a índices\n",
    "y_true_int = [label_to_index[label] for label in filtered_df[\"Label\"]]\n",
    "y_pred_int = [label_to_index[label] for label in filtered_df[\"gpt_classification_zero_shot\"]]\n",
    "\n",
    "# Registrar la matriz de confusión en wandb\n",
    "wandb.log({\n",
    "    \"confusion_matrix\": wandb.plot.confusion_matrix(\n",
    "        probs=None, \n",
    "        y_true=y_true_int, \n",
    "        preds=y_pred_int, \n",
    "        class_names=[str(label) for label in labels]\n",
    "    )\n",
    "})"
   ]
  },
  {
   "cell_type": "code",
   "execution_count": 93,
   "metadata": {},
   "outputs": [
    {
     "data": {
      "application/vnd.jupyter.widget-view+json": {
       "model_id": "a22d0e6b03634c888d2efb6a6eca7e0d",
       "version_major": 2,
       "version_minor": 0
      },
      "text/plain": [
       "VBox(children=(Label(value='0.010 MB of 0.010 MB uploaded\\r'), FloatProgress(value=1.0, max=1.0)))"
      ]
     },
     "metadata": {},
     "output_type": "display_data"
    },
    {
     "data": {
      "text/html": [
       "<style>\n",
       "    table.wandb td:nth-child(1) { padding: 0 10px; text-align: left ; width: auto;} td:nth-child(2) {text-align: left ; width: 100%}\n",
       "    .wandb-row { display: flex; flex-direction: row; flex-wrap: wrap; justify-content: flex-start; width: 100% }\n",
       "    .wandb-col { display: flex; flex-direction: column; flex-basis: 100%; flex: 1; padding: 10px; }\n",
       "    </style>\n",
       "<div class=\"wandb-row\"><div class=\"wandb-col\"><h3>Run history:</h3><br/><table class=\"wandb\"><tr><td>Accuracy</td><td>▁</td></tr></table><br/></div><div class=\"wandb-col\"><h3>Run summary:</h3><br/><table class=\"wandb\"><tr><td>Accuracy</td><td>0.73006</td></tr><tr><td>classification_report</td><td>              precis...</td></tr></table><br/></div></div>"
      ],
      "text/plain": [
       "<IPython.core.display.HTML object>"
      ]
     },
     "metadata": {},
     "output_type": "display_data"
    },
    {
     "data": {
      "text/html": [
       " View run <strong style=\"color:#cdcd00\">zero_shot_gpt4_21-09-2024_17_38</strong> at: <a href='https://wandb.ai/felipeandres29-universidad-eafit/zero%20and%20few%20shot%20learning%20chatgpt%20on%20suicide%20intent-spanish/runs/ndlqveyd' target=\"_blank\">https://wandb.ai/felipeandres29-universidad-eafit/zero%20and%20few%20shot%20learning%20chatgpt%20on%20suicide%20intent-spanish/runs/ndlqveyd</a><br/> View project at: <a href='https://wandb.ai/felipeandres29-universidad-eafit/zero%20and%20few%20shot%20learning%20chatgpt%20on%20suicide%20intent-spanish' target=\"_blank\">https://wandb.ai/felipeandres29-universidad-eafit/zero%20and%20few%20shot%20learning%20chatgpt%20on%20suicide%20intent-spanish</a><br/>Synced 4 W&B file(s), 0 media file(s), 5 artifact file(s) and 1 other file(s)"
      ],
      "text/plain": [
       "<IPython.core.display.HTML object>"
      ]
     },
     "metadata": {},
     "output_type": "display_data"
    },
    {
     "data": {
      "text/html": [
       "Find logs at: <code>.\\wandb\\run-20240921_173820-ndlqveyd\\logs</code>"
      ],
      "text/plain": [
       "<IPython.core.display.HTML object>"
      ]
     },
     "metadata": {},
     "output_type": "display_data"
    }
   ],
   "source": [
    "wandb.finish()"
   ]
  },
  {
   "cell_type": "markdown",
   "metadata": {},
   "source": [
    "## create the samples for few shot prompting"
   ]
  },
  {
   "cell_type": "code",
   "execution_count": 121,
   "metadata": {},
   "outputs": [],
   "source": [
    "def make_samples_from_df(df: pd.DataFrame, n_samples: int = 10) -> str:\n",
    "    \"\"\"\n",
    "    function to generate samples\n",
    "    \"\"\"\n",
    "    df_label_1 = df[df[\"Label\"] == 1].sample(n_samples, random_state=42)\n",
    "    df_label_0 = df[df[\"Label\"] == 0].sample(n_samples, random_state=42)\n",
    "    df_sampled = pd.concat([df_label_1, df_label_0])\n",
    "    samples = \",\\n\".join(\n",
    "        [\n",
    "            f'\"Post: {row[\"Text\"]}\" , clasificacion: {row[\"Label\"]}'\n",
    "            for _, row in df_sampled.iterrows()\n",
    "        ]\n",
    "    )\n",
    "    return samples"
   ]
  },
  {
   "cell_type": "code",
   "execution_count": 122,
   "metadata": {},
   "outputs": [
    {
     "name": "stdout",
     "output_type": "stream",
     "text": [
      "\"Post: El mayor evento de networking estará aquí dentro de unos días. No querrás perderte esta rara oportunidad, regístrate gratis @, se iluminará...\" , clasificacion: 1,\n",
      "\"Post: No tiene sentido. Me he convertido en todo lo que me dije que nunca sería. Arruino vidas. Mi única razón para vivir está enojada conmigo, y ella nunca va a volver. No tengo ninguna razón para vivir. No quiero tu ayuda. Sólo pensé que lo tiraría por ahí.\" , clasificacion: 1,\n",
      "\"Post: ¿Por qué sigo luchando?Estoy cansado, quiero morir, y sin embargo todavía estoy luchando para vivir. ¿Por qué? ¿Por qué es tan difícil para mí simplemente rendirme y rendirme. Nunca pedí esta vida sin embargo fue forzada sobre mí. Quiero volver a antes de que existiese. No quiero esto.\" , clasificacion: 1,\n",
      "\"Post: prometer más que cumplir es el mensaje que se envía ahora habrá que ver si eso sucederá, parece que las elecciones intermedias se definirán según los valores de cada partido y lo que el electorado decida que quiere ver en Estados Unidos. Estoy apostando por ello. la mayoría silenciosa\" , clasificacion: 1,\n",
      "\"Post: Sí, así es como va la vida, ni siquiera en mi sueño pensé que también odiaría a Rudy.\" , clasificacion: 1,\n",
      "\"Post: Me dije a mí mismo que no debía lastimarme hoy, pero-\" , clasificacion: 1,\n",
      "\"Post: Vaya, realmente le agrado a alguien, pero estaba con alguien en ese momento, así que uhhh, ya no puedo hacer mucho al respecto. Hmm, esto es un poco confuso, ya no les agradas.\" , clasificacion: 1,\n",
      "\"Post: Mis oraciones para tu campeón y tus hermanos escudos, la razón por la que veo WWE. Sé que eres más fuerte que la leucemia y quiero que le des un gran golpe de Superman y acabes con su vida de una vez por todas. ¡¡Que te mejores lo antes posible, mi campeón!! !\" , clasificacion: 1,\n",
      "\"Post: por favor, si alguno de ustedes aquí necesita alguien con quien hablar o tiene pensamientos suicidas, siempre puede acercarse a mí, lo más importante, siempre puede buscar a Dios. Mi noche ha sido devastada al desplazarme hasta una noticia sobre alguien que se suicidó debido a la depresión.\" , clasificacion: 1,\n",
      "\"Post: Ok, estaba bien, pero ahora mismo tengo muchas ganas de suicidarme. Te amo aunque probablemente no veas este tweet.\" , clasificacion: 1,\n",
      "\"Post: Voy a hacer algo raro que les actualizará si funciona. Si lo hace, entonces me sorprenderá\" , clasificacion: 0,\n",
      "\"Post: A la mierda anatomía bro no me importan los tejidos hermano quería aprender sobre putos implantes óseos o algo genial lotta trabajo bro\" , clasificacion: 0,\n",
      "\"Post: Es mi cumpleaños que no puedo ver a la gente bc de Corona, pero pensé que iba a celebrar con ustedes\" , clasificacion: 0,\n",
      "\"Post: ¿Qué pasa con todos estos títulos de “No soy una chica así que a nadie le importará, pero...”? Veo más de esas que veo chicas reales en este submarino. ¿Por qué la gente sigue diciendo esto? No tratando de hacer enojar a la gente, sólo genuinamente preguntándose.\" , clasificacion: 0,\n",
      "\"Post: Tal vez es un deseo egoísta... Como, no quiero un compañero, pero sí quiero a alguien con quien pueda hacer cosas románticas. Tengo muchas ideas de lo que puedo hacer a esa persona, pero no necesariamente quiero que sean un gf es que raro / egoísta\" , clasificacion: 0,\n",
      "\"Post: Wtf está con todos los posts de pedo repentinos Bing bong ¿por qué los posts tienen que ser tan largos\" , clasificacion: 0,\n",
      "\"Post: Nombre un plato que tenga un sabor agridulce\" , clasificacion: 0,\n",
      "\"Post: Um chicos no puedo pensar en nada para un juego civ y no quiero ser ayuda básica pls Fillerfillerfillerfillerfillerfillerfillerfillerfillerfillerfillerfillerfillerfillerfillerfillerfillerfillerfillerfiller\" , clasificacion: 0,\n",
      "\"Post: Es miércoles, mis amigos relleno relleno relleno relleno relleno relleno relleno relleno\" , clasificacion: 0,\n",
      "\"Post: Sólo quiero enviar un mensaje de \"joder lo que la gente piensa\" y ser yo sin tener que hacer lo que la gente espera.\" , clasificacion: 0\n"
     ]
    }
   ],
   "source": [
    "samples = make_samples_from_df(X_train, n_samples = 10)\n",
    "print(samples)"
   ]
  },
  {
   "cell_type": "code",
   "execution_count": 123,
   "metadata": {},
   "outputs": [],
   "source": [
    "system_msg = \"\"\"\n",
    "Basado en los siguientes ejemplos: {samples}, clasifica el post con \"1\" si identificas ideación o comportamiento suicida, y con \"0\" si no. Solo responde con \"0\" o \"1\" sin agregar comentarios adicionales.\n",
    "Post:\"\"\".strip()\n",
    "few_shot_prompt = ChatPromptTemplate.from_messages([(\"system\", system_msg,),(\"human\", \"{text}\"),])\n",
    "SAMPLES = make_samples_from_df(df_train, n_samples = 10)"
   ]
  },
  {
   "cell_type": "code",
   "execution_count": 128,
   "metadata": {},
   "outputs": [
    {
     "data": {
      "text/plain": [
       "Label\n",
       "1    1006\n",
       "0     994\n",
       "Name: count, dtype: int64"
      ]
     },
     "execution_count": 128,
     "metadata": {},
     "output_type": "execute_result"
    }
   ],
   "source": [
    "df_test['Label'].value_counts()"
   ]
  },
  {
   "cell_type": "markdown",
   "metadata": {},
   "source": [
    "## Apply clasification function to sampled dataset"
   ]
  },
  {
   "cell_type": "code",
   "execution_count": 127,
   "metadata": {},
   "outputs": [],
   "source": [
    "chain = few_shot_prompt | llm\n",
    "def generate_clasification(text):\n",
    "    time.sleep(1) # temporizador para no sobrepasar los tokens por minuto\n",
    "    try:\n",
    "        response = chain.invoke(\n",
    "            {\n",
    "                \"samples\": SAMPLES,\n",
    "                \"text\": text,\n",
    "            }\n",
    "        )\n",
    "        return response.content\n",
    "    except Exception as e:\n",
    "        print(e)\n",
    "        return \"-1\""
   ]
  },
  {
   "cell_type": "code",
   "execution_count": 129,
   "metadata": {},
   "outputs": [
    {
     "name": "stderr",
     "output_type": "stream",
     "text": [
      "\u001b[34m\u001b[1mwandb\u001b[0m: \u001b[33mWARNING\u001b[0m If you're specifying your api key in code, ensure this code is not shared publicly.\n",
      "\u001b[34m\u001b[1mwandb\u001b[0m: \u001b[33mWARNING\u001b[0m Consider setting the WANDB_API_KEY environment variable, or running `wandb login` from the command line.\n",
      "\u001b[34m\u001b[1mwandb\u001b[0m: Appending key for api.wandb.ai to your netrc file: C:\\Users\\felip\\_netrc\n"
     ]
    },
    {
     "data": {
      "text/html": [
       "Tracking run with wandb version 0.18.1"
      ],
      "text/plain": [
       "<IPython.core.display.HTML object>"
      ]
     },
     "metadata": {},
     "output_type": "display_data"
    },
    {
     "data": {
      "text/html": [
       "Run data is saved locally in <code>c:\\repos\\poc_llama3_1_clasificacion_texto\\wandb\\run-20240921_193655-k0tikw3u</code>"
      ],
      "text/plain": [
       "<IPython.core.display.HTML object>"
      ]
     },
     "metadata": {},
     "output_type": "display_data"
    },
    {
     "data": {
      "text/html": [
       "Syncing run <strong><a href='https://wandb.ai/felipeandres29-universidad-eafit/zero%20and%20few%20shot%20chatgpt%20on%20suicide%20intent-spanish/runs/k0tikw3u' target=\"_blank\">few_shot_llama_21-09-2024_19_36</a></strong> to <a href='https://wandb.ai/felipeandres29-universidad-eafit/zero%20and%20few%20shot%20chatgpt%20on%20suicide%20intent-spanish' target=\"_blank\">Weights & Biases</a> (<a href='https://wandb.me/run' target=\"_blank\">docs</a>)<br/>"
      ],
      "text/plain": [
       "<IPython.core.display.HTML object>"
      ]
     },
     "metadata": {},
     "output_type": "display_data"
    },
    {
     "data": {
      "text/html": [
       " View project at <a href='https://wandb.ai/felipeandres29-universidad-eafit/zero%20and%20few%20shot%20chatgpt%20on%20suicide%20intent-spanish' target=\"_blank\">https://wandb.ai/felipeandres29-universidad-eafit/zero%20and%20few%20shot%20chatgpt%20on%20suicide%20intent-spanish</a>"
      ],
      "text/plain": [
       "<IPython.core.display.HTML object>"
      ]
     },
     "metadata": {},
     "output_type": "display_data"
    },
    {
     "data": {
      "text/html": [
       " View run at <a href='https://wandb.ai/felipeandres29-universidad-eafit/zero%20and%20few%20shot%20chatgpt%20on%20suicide%20intent-spanish/runs/k0tikw3u' target=\"_blank\">https://wandb.ai/felipeandres29-universidad-eafit/zero%20and%20few%20shot%20chatgpt%20on%20suicide%20intent-spanish/runs/k0tikw3u</a>"
      ],
      "text/plain": [
       "<IPython.core.display.HTML object>"
      ]
     },
     "metadata": {},
     "output_type": "display_data"
    }
   ],
   "source": [
    "today = datetime.today()\n",
    "run_date = today.strftime(\"%d-%m-%Y_%H_%M\")\n",
    "\n",
    "wb_token = os.getenv(\"WANDB_TOKEN\")\n",
    "\n",
    "wandb.login(key=wb_token)\n",
    "run = wandb.init(\n",
    "    project='zero and few shot chatgpt on suicide intent-spanish',\n",
    "    job_type=\"evaluation\",\n",
    "    name=f\"few_shot_llama_{run_date}\",\n",
    "    anonymous=\"allow\"\n",
    ")"
   ]
  },
  {
   "cell_type": "markdown",
   "metadata": {},
   "source": [
    "## tracking experiment with wandb"
   ]
  },
  {
   "cell_type": "code",
   "execution_count": 130,
   "metadata": {},
   "outputs": [
    {
     "data": {
      "text/html": [
       "<div>\n",
       "<style scoped>\n",
       "    .dataframe tbody tr th:only-of-type {\n",
       "        vertical-align: middle;\n",
       "    }\n",
       "\n",
       "    .dataframe tbody tr th {\n",
       "        vertical-align: top;\n",
       "    }\n",
       "\n",
       "    .dataframe thead th {\n",
       "        text-align: right;\n",
       "    }\n",
       "</style>\n",
       "<table border=\"1\" class=\"dataframe\">\n",
       "  <thead>\n",
       "    <tr style=\"text-align: right;\">\n",
       "      <th></th>\n",
       "      <th>Text</th>\n",
       "      <th>Label</th>\n",
       "      <th>dataset</th>\n",
       "      <th>__index_level_0__</th>\n",
       "      <th>gpt_classification_zero_shot</th>\n",
       "      <th>gpt_classification_few_shot</th>\n",
       "    </tr>\n",
       "  </thead>\n",
       "  <tbody>\n",
       "    <tr>\n",
       "      <th>18000</th>\n",
       "      <td>Estoy listo para morir.2 años de tiempo presta...</td>\n",
       "      <td>1</td>\n",
       "      <td>SuicideWatch</td>\n",
       "      <td>36253</td>\n",
       "      <td>1</td>\n",
       "      <td>1</td>\n",
       "    </tr>\n",
       "    <tr>\n",
       "      <th>18001</th>\n",
       "      <td>Creé un avatar reddit e hice que se pareciera ...</td>\n",
       "      <td>0</td>\n",
       "      <td>SuicideWatch</td>\n",
       "      <td>55987</td>\n",
       "      <td>0</td>\n",
       "      <td>0</td>\n",
       "    </tr>\n",
       "    <tr>\n",
       "      <th>18002</th>\n",
       "      <td>estos son los niños que luego en la vida están...</td>\n",
       "      <td>1</td>\n",
       "      <td>TwitterSuicidalAnalysis</td>\n",
       "      <td>10161</td>\n",
       "      <td>0</td>\n",
       "      <td>0</td>\n",
       "    </tr>\n",
       "    <tr>\n",
       "      <th>18003</th>\n",
       "      <td>Estoy trabajando ahora, el primer día de mi nu...</td>\n",
       "      <td>1</td>\n",
       "      <td>SuicideWatch</td>\n",
       "      <td>93875</td>\n",
       "      <td>0</td>\n",
       "      <td>0</td>\n",
       "    </tr>\n",
       "    <tr>\n",
       "      <th>18004</th>\n",
       "      <td>Pensamientos matutinos Hubo un tiempo en el qu...</td>\n",
       "      <td>1</td>\n",
       "      <td>Ji et al. 2018</td>\n",
       "      <td>1764</td>\n",
       "      <td>1</td>\n",
       "      <td>1</td>\n",
       "    </tr>\n",
       "    <tr>\n",
       "      <th>...</th>\n",
       "      <td>...</td>\n",
       "      <td>...</td>\n",
       "      <td>...</td>\n",
       "      <td>...</td>\n",
       "      <td>...</td>\n",
       "      <td>...</td>\n",
       "    </tr>\n",
       "    <tr>\n",
       "      <th>19995</th>\n",
       "      <td>Mi escuela publicó esto a los estudiantes idk ...</td>\n",
       "      <td>0</td>\n",
       "      <td>SuicideWatch</td>\n",
       "      <td>44457</td>\n",
       "      <td>0</td>\n",
       "      <td>0</td>\n",
       "    </tr>\n",
       "    <tr>\n",
       "      <th>19996</th>\n",
       "      <td>Esto es un poco grande para mí porque he estad...</td>\n",
       "      <td>0</td>\n",
       "      <td>SuicideWatch</td>\n",
       "      <td>2270</td>\n",
       "      <td>0</td>\n",
       "      <td>0</td>\n",
       "    </tr>\n",
       "    <tr>\n",
       "      <th>19997</th>\n",
       "      <td>¿Estarías dispuesto a sacarme de la cornisa? M...</td>\n",
       "      <td>1</td>\n",
       "      <td>SuicideWatch</td>\n",
       "      <td>108633</td>\n",
       "      <td>1</td>\n",
       "      <td>1</td>\n",
       "    </tr>\n",
       "    <tr>\n",
       "      <th>19998</th>\n",
       "      <td>Me estoy ahogando lentamente por los números</td>\n",
       "      <td>1</td>\n",
       "      <td>TwitterSuicidalAnalysis</td>\n",
       "      <td>25724</td>\n",
       "      <td>1</td>\n",
       "      <td>1</td>\n",
       "    </tr>\n",
       "    <tr>\n",
       "      <th>19999</th>\n",
       "      <td>Hmu, me aburro Escribe un comentario o dame, n...</td>\n",
       "      <td>0</td>\n",
       "      <td>SuicideWatch</td>\n",
       "      <td>6946</td>\n",
       "      <td>0</td>\n",
       "      <td>0</td>\n",
       "    </tr>\n",
       "  </tbody>\n",
       "</table>\n",
       "<p>2000 rows × 6 columns</p>\n",
       "</div>"
      ],
      "text/plain": [
       "                                                    Text  Label  \\\n",
       "18000  Estoy listo para morir.2 años de tiempo presta...      1   \n",
       "18001  Creé un avatar reddit e hice que se pareciera ...      0   \n",
       "18002  estos son los niños que luego en la vida están...      1   \n",
       "18003  Estoy trabajando ahora, el primer día de mi nu...      1   \n",
       "18004  Pensamientos matutinos Hubo un tiempo en el qu...      1   \n",
       "...                                                  ...    ...   \n",
       "19995  Mi escuela publicó esto a los estudiantes idk ...      0   \n",
       "19996  Esto es un poco grande para mí porque he estad...      0   \n",
       "19997  ¿Estarías dispuesto a sacarme de la cornisa? M...      1   \n",
       "19998       Me estoy ahogando lentamente por los números      1   \n",
       "19999  Hmu, me aburro Escribe un comentario o dame, n...      0   \n",
       "\n",
       "                       dataset  __index_level_0__  \\\n",
       "18000             SuicideWatch              36253   \n",
       "18001             SuicideWatch              55987   \n",
       "18002  TwitterSuicidalAnalysis              10161   \n",
       "18003             SuicideWatch              93875   \n",
       "18004           Ji et al. 2018               1764   \n",
       "...                        ...                ...   \n",
       "19995             SuicideWatch              44457   \n",
       "19996             SuicideWatch               2270   \n",
       "19997             SuicideWatch             108633   \n",
       "19998  TwitterSuicidalAnalysis              25724   \n",
       "19999             SuicideWatch               6946   \n",
       "\n",
       "      gpt_classification_zero_shot gpt_classification_few_shot  \n",
       "18000                            1                           1  \n",
       "18001                            0                           0  \n",
       "18002                            0                           0  \n",
       "18003                            0                           0  \n",
       "18004                            1                           1  \n",
       "...                            ...                         ...  \n",
       "19995                            0                           0  \n",
       "19996                            0                           0  \n",
       "19997                            1                           1  \n",
       "19998                            1                           1  \n",
       "19999                            0                           0  \n",
       "\n",
       "[2000 rows x 6 columns]"
      ]
     },
     "execution_count": 130,
     "metadata": {},
     "output_type": "execute_result"
    }
   ],
   "source": [
    "# Aplicar la función a cada registro del DataFrame\n",
    "df_test['gpt_classification_few_shot'] = df_test['Text'].apply(generate_clasification)\n",
    "df_test"
   ]
  },
  {
   "cell_type": "code",
   "execution_count": 131,
   "metadata": {},
   "outputs": [],
   "source": [
    "df_test.to_csv('data/zero_shot_model_gpt4_2.csv', index=False)"
   ]
  },
  {
   "cell_type": "markdown",
   "metadata": {},
   "source": [
    "# Testing model"
   ]
  },
  {
   "cell_type": "code",
   "execution_count": 134,
   "metadata": {},
   "outputs": [
    {
     "name": "stderr",
     "output_type": "stream",
     "text": [
      "C:\\Users\\felip\\AppData\\Local\\Temp\\ipykernel_23592\\55335300.py:4: SettingWithCopyWarning: \n",
      "A value is trying to be set on a copy of a slice from a DataFrame.\n",
      "Try using .loc[row_indexer,col_indexer] = value instead\n",
      "\n",
      "See the caveats in the documentation: https://pandas.pydata.org/pandas-docs/stable/user_guide/indexing.html#returning-a-view-versus-a-copy\n",
      "  filtered_df[\"gpt_classification_few_shot\"] = filtered_df[\"gpt_classification_few_shot\"].astype(int)\n"
     ]
    }
   ],
   "source": [
    "# Filtrar las filas donde las predicciones son 0 o 1\n",
    "filtered_df = df_test[df_test[\"gpt_classification_few_shot\"].isin([\"0\", \"1\"])]\n",
    "\n",
    "filtered_df[\"gpt_classification_few_shot\"] = filtered_df[\"gpt_classification_few_shot\"].astype(int)"
   ]
  },
  {
   "cell_type": "code",
   "execution_count": 137,
   "metadata": {},
   "outputs": [
    {
     "name": "stdout",
     "output_type": "stream",
     "text": [
      "Accuracy: 0.765\n"
     ]
    },
    {
     "data": {
      "image/png": "[encoded data removed]",
      "text/plain": [
       "<Figure size 1000x700 with 2 Axes>"
      ]
     },
     "metadata": {},
     "output_type": "display_data"
    },
    {
     "name": "stdout",
     "output_type": "stream",
     "text": [
      "              precision    recall  f1-score   support\n",
      "\n",
      "           0       0.69      0.93      0.79       954\n",
      "           1       0.91      0.60      0.73      1004\n",
      "\n",
      "    accuracy                           0.77      1958\n",
      "   macro avg       0.80      0.77      0.76      1958\n",
      "weighted avg       0.80      0.77      0.76      1958\n",
      "\n"
     ]
    }
   ],
   "source": [
    "accuracy,classification_report,cm =plot_confusion_matrix(filtered_df, 'Label', 'gpt_classification_few_shot')"
   ]
  },
  {
   "cell_type": "code",
   "execution_count": 138,
   "metadata": {},
   "outputs": [],
   "source": [
    "wandb.log({\"Accuracy\": accuracy})\n",
    "wandb.log({\"Matriz de confusion\": cm})\n",
    "wandb.log({\"classification_report\": classification_report})"
   ]
  },
  {
   "cell_type": "code",
   "execution_count": 139,
   "metadata": {},
   "outputs": [],
   "source": [
    "labels =  [0, 1]\n",
    "label_to_index = {label: idx for idx, label in enumerate(labels)}\n",
    "\n",
    "# Convertir las etiquetas verdaderas y predichas a índices\n",
    "y_true_int = [label_to_index[label] for label in filtered_df[\"Label\"]]\n",
    "y_pred_int = [label_to_index[label] for label in filtered_df[\"gpt_classification_few_shot\"]]\n",
    "\n",
    "# Registrar la matriz de confusión en wandb\n",
    "wandb.log({\n",
    "    \"confusion_matrix\": wandb.plot.confusion_matrix(\n",
    "        probs=None, \n",
    "        y_true=y_true_int, \n",
    "        preds=y_pred_int, \n",
    "        class_names=[str(label) for label in labels]\n",
    "    )\n",
    "})"
   ]
  },
  {
   "cell_type": "code",
   "execution_count": 140,
   "metadata": {},
   "outputs": [
    {
     "data": {
      "application/vnd.jupyter.widget-view+json": {
       "model_id": "e694f8b2aeb1442d9e48ef0afe0e3cc3",
       "version_major": 2,
       "version_minor": 0
      },
      "text/plain": [
       "VBox(children=(Label(value='0.009 MB of 0.009 MB uploaded\\r'), FloatProgress(value=1.0, max=1.0)))"
      ]
     },
     "metadata": {},
     "output_type": "display_data"
    },
    {
     "data": {
      "text/html": [
       "<style>\n",
       "    table.wandb td:nth-child(1) { padding: 0 10px; text-align: left ; width: auto;} td:nth-child(2) {text-align: left ; width: 100%}\n",
       "    .wandb-row { display: flex; flex-direction: row; flex-wrap: wrap; justify-content: flex-start; width: 100% }\n",
       "    .wandb-col { display: flex; flex-direction: column; flex-basis: 100%; flex: 1; padding: 10px; }\n",
       "    </style>\n",
       "<div class=\"wandb-row\"><div class=\"wandb-col\"><h3>Run history:</h3><br/><table class=\"wandb\"><tr><td>Accuracy</td><td>▁</td></tr></table><br/></div><div class=\"wandb-col\"><h3>Run summary:</h3><br/><table class=\"wandb\"><tr><td>Accuracy</td><td>0.76507</td></tr><tr><td>classification_report</td><td>              precis...</td></tr></table><br/></div></div>"
      ],
      "text/plain": [
       "<IPython.core.display.HTML object>"
      ]
     },
     "metadata": {},
     "output_type": "display_data"
    },
    {
     "data": {
      "text/html": [
       " View run <strong style=\"color:#cdcd00\">few_shot_llama_21-09-2024_19_36</strong> at: <a href='https://wandb.ai/felipeandres29-universidad-eafit/zero%20and%20few%20shot%20chatgpt%20on%20suicide%20intent-spanish/runs/k0tikw3u' target=\"_blank\">https://wandb.ai/felipeandres29-universidad-eafit/zero%20and%20few%20shot%20chatgpt%20on%20suicide%20intent-spanish/runs/k0tikw3u</a><br/> View project at: <a href='https://wandb.ai/felipeandres29-universidad-eafit/zero%20and%20few%20shot%20chatgpt%20on%20suicide%20intent-spanish' target=\"_blank\">https://wandb.ai/felipeandres29-universidad-eafit/zero%20and%20few%20shot%20chatgpt%20on%20suicide%20intent-spanish</a><br/>Synced 4 W&B file(s), 0 media file(s), 5 artifact file(s) and 1 other file(s)"
      ],
      "text/plain": [
       "<IPython.core.display.HTML object>"
      ]
     },
     "metadata": {},
     "output_type": "display_data"
    },
    {
     "data": {
      "text/html": [
       "Find logs at: <code>.\\wandb\\run-20240921_193655-k0tikw3u\\logs</code>"
      ],
      "text/plain": [
       "<IPython.core.display.HTML object>"
      ]
     },
     "metadata": {},
     "output_type": "display_data"
    }
   ],
   "source": [
    "wandb.finish()"
   ]
  }
 ],
 "metadata": {
  "kernelspec": {
   "display_name": ".venv",
   "language": "python",
   "name": "python3"
  },
  "language_info": {
   "codemirror_mode": {
    "name": "ipython",
    "version": 3
   },
   "file_extension": ".py",
   "mimetype": "text/x-python",
   "name": "python",
   "nbconvert_exporter": "python",
   "pygments_lexer": "ipython3",
   "version": "3.12.4"
  }
 },
 "nbformat": 4,
 "nbformat_minor": 2
}
